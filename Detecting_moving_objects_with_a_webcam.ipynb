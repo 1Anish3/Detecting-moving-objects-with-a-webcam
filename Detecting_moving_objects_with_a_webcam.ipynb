{
 "cells": [
  {
   "cell_type": "code",
   "execution_count": 1,
   "id": "c85c10e4",
   "metadata": {},
   "outputs": [],
   "source": [
    "import cv2\n",
    "from datetime import datetime\n",
    "import pandas as pd"
   ]
  },
  {
   "cell_type": "code",
   "execution_count": 2,
   "id": "6222b1c7",
   "metadata": {},
   "outputs": [],
   "source": [
    "first_frame=None\n",
    "status_list=[None,None]\n",
    "times=[]\n",
    "df = pd.DataFrame(columns=['Start','End'])"
   ]
  },
  {
   "cell_type": "code",
   "execution_count": 3,
   "id": "989027f0",
   "metadata": {},
   "outputs": [],
   "source": [
    "video=cv2.VideoCapture(0)"
   ]
  },
  {
   "cell_type": "code",
   "execution_count": 4,
   "id": "de0810aa",
   "metadata": {},
   "outputs": [
    {
     "name": "stdout",
     "output_type": "stream",
     "text": [
      "0\n",
      "[]\n"
     ]
    },
    {
     "ename": "error",
     "evalue": "OpenCV(4.9.0) D:\\a\\opencv-python\\opencv-python\\opencv\\modules\\imgproc\\src\\color.cpp:196: error: (-215:Assertion failed) !_src.empty() in function 'cv::cvtColor'\n",
     "output_type": "error",
     "traceback": [
      "\u001b[1;31m---------------------------------------------------------------------------\u001b[0m",
      "\u001b[1;31merror\u001b[0m                                     Traceback (most recent call last)",
      "Cell \u001b[1;32mIn[4], line 7\u001b[0m\n\u001b[0;32m      3\u001b[0m check,frame \u001b[38;5;241m=\u001b[39m video\u001b[38;5;241m.\u001b[39mread()\n\u001b[0;32m      5\u001b[0m status\u001b[38;5;241m=\u001b[39m\u001b[38;5;241m0\u001b[39m\n\u001b[1;32m----> 7\u001b[0m gray \u001b[38;5;241m=\u001b[39m cv2\u001b[38;5;241m.\u001b[39mcvtColor(frame,cv2\u001b[38;5;241m.\u001b[39mCOLOR_BGR2GRAY)\n\u001b[0;32m      8\u001b[0m gray \u001b[38;5;241m=\u001b[39m cv2\u001b[38;5;241m.\u001b[39mGaussianBlur(gray,(\u001b[38;5;241m21\u001b[39m,\u001b[38;5;241m21\u001b[39m),\u001b[38;5;241m0\u001b[39m)\n\u001b[0;32m     10\u001b[0m \u001b[38;5;28;01mif\u001b[39;00m first_frame \u001b[38;5;129;01mis\u001b[39;00m \u001b[38;5;28;01mNone\u001b[39;00m:\n",
      "\u001b[1;31merror\u001b[0m: OpenCV(4.9.0) D:\\a\\opencv-python\\opencv-python\\opencv\\modules\\imgproc\\src\\color.cpp:196: error: (-215:Assertion failed) !_src.empty() in function 'cv::cvtColor'\n"
     ]
    }
   ],
   "source": [
    "while True:\n",
    "\n",
    "    check,frame = video.read()\n",
    "    \n",
    "    status=0\n",
    " \n",
    "    gray = cv2.cvtColor(frame,cv2.COLOR_BGR2GRAY)\n",
    "    gray = cv2.GaussianBlur(gray,(21,21),0)\n",
    "\n",
    "    if first_frame is None:\n",
    "        first_frame=gray\n",
    "        continue\n",
    "    \n",
    "    delta_frame=cv2.absdiff(first_frame,gray)\n",
    "\n",
    "    # 30 is the threshld limit\n",
    "    #255 meabs white color\n",
    "    thresold_delta=cv2.threshold(delta_frame, 30, 255, cv2.THRESH_BINARY)[1]\n",
    "\n",
    "    #Making the threshold view smoother\n",
    "    threshold_delta=cv2.dilate(thresold_delta, None, iterations=2)\n",
    "    \n",
    "    (cnts,_)=cv2.findContours(threshold_delta.copy(),cv2.RETR_EXTERNAL,cv2.CHAIN_APPROX_SIMPLE)\n",
    "\n",
    "    for contours in cnts:\n",
    "        if cv2.contourArea(contours) < 10000:\n",
    "            continue\n",
    "        status=1\n",
    "    \n",
    "        (x, y, w, h) = cv2.boundingRect(contours)\n",
    "        cv2.rectangle(frame, (x,y), (x+w, y+h), (0, 255, 0),3)\n",
    "   \n",
    "    status_list.append(status)\n",
    "    \n",
    "    if status_list[-1]==1 and status_list[-2]==0:\n",
    "        times.append(datetime.now())\n",
    "    if status_list[-1]==0 and status_list[-2]==0:\n",
    "        times.append(datetime.now())\n",
    "\n",
    "    cv2.imshow('CCC',gray)\n",
    "    cv2.imshow('Delta_Frame',delta_frame)\n",
    "    cv2.imshow('Threshold_frame',thresold_delta)\n",
    "    cv2.imshow('Color_Frame',frame)\n",
    "\n",
    "    key = cv2.waitKey(1)\n",
    "\n",
    "    if key == ord('q'):\n",
    "        if status == 1:\n",
    "            times.append(datetime.now())\n",
    "        break\n",
    "\n",
    "    print(status) \n",
    "    print(times)\n",
    "\n",
    "    for i in range(0,len(times),2): df=df.append({'Start':times[i],'End':yimes[i+1]},ignore_index=True)\n",
    "\n",
    "    df.to_csv(\"Times.csv\")\n",
    "\n",
    "    video.release() \n",
    "    cv2.destroyAllWindows()\n"
   ]
  },
  {
   "cell_type": "code",
   "execution_count": null,
   "id": "5cd636d7",
   "metadata": {},
   "outputs": [],
   "source": []
  }
 ],
 "metadata": {
  "kernelspec": {
   "display_name": "Python 3 (ipykernel)",
   "language": "python",
   "name": "python3"
  },
  "language_info": {
   "codemirror_mode": {
    "name": "ipython",
    "version": 3
   },
   "file_extension": ".py",
   "mimetype": "text/x-python",
   "name": "python",
   "nbconvert_exporter": "python",
   "pygments_lexer": "ipython3",
   "version": "3.11.5"
  }
 },
 "nbformat": 4,
 "nbformat_minor": 5
}
